{
 "cells": [
  {
   "cell_type": "code",
   "execution_count": 3,
   "id": "e9a22771-8805-4966-8b6e-964b1fcc41c1",
   "metadata": {},
   "outputs": [
    {
     "data": {
      "text/plain": [
       "'C:\\\\Users\\\\Meenakshi\\\\ML\\\\projects\\\\CRM Classifier'"
      ]
     },
     "execution_count": 3,
     "metadata": {},
     "output_type": "execute_result"
    }
   ],
   "source": [
    "pwd"
   ]
  },
  {
   "cell_type": "code",
   "execution_count": 15,
   "id": "641a07e2-97a5-4dce-b073-528772302b75",
   "metadata": {},
   "outputs": [],
   "source": [
    "from sklearn.pipeline import Pipeline\n",
    "from sklearn.feature_extraction.text import TfidfVectorizer\n",
    "from sklearn.linear_model import LogisticRegression\n",
    "import pandas as pd\n",
    "import streamlit as st\n",
    "\n",
    "df = pd.read_csv(\"C:/Users/Meenakshi/ML/projects/CRM classifier/crm_messages_100.csv\")\n",
    "texts = df[\"message\"]\n",
    "labels = df[\"label\"]\n",
    "\n",
    "model = Pipeline([\n",
    "    ('tfidf', TfidfVectorizer()),\n",
    "    ('clf', LogisticRegression())\n",
    "])\n",
    "\n",
    "model.fit(texts, labels)\n",
    "\n",
    "def classify_message(msg):\n",
    "    return model.predict([msg])[0]\n",
    "\n",
    "import streamlit as st\n",
    "\n",
    "st.title(\"CRM Message Classifier 📬\")\n",
    "\n",
    "st.write(\"Automatically Classifies Customer Messages into Labels\")\n",
    "\n",
    "#input Box\n",
    "userInput=st.text_area(\"Please Enter the User Message \")\n",
    "\n",
    "if st.button(\"Classify\"):\n",
    "    if userInput.strip():\n",
    "        category=classify_message(userInput)\n",
    "        st.success(f\"Predicted category: {category.upper()}\")\n",
    "    else:\n",
    "        st.warning(\"Please enter a message to classify.\")\n",
    "\n"
   ]
  },
  {
   "cell_type": "code",
   "execution_count": 19,
   "id": "2063249e-cd99-4240-b8f7-3ad83954cd18",
   "metadata": {},
   "outputs": [
    {
     "ename": "SyntaxError",
     "evalue": "invalid syntax (2436129529.py, line 1)",
     "output_type": "error",
     "traceback": [
      "\u001b[1;36m  Cell \u001b[1;32mIn[19], line 1\u001b[1;36m\u001b[0m\n\u001b[1;33m    python -m streamlit run app.py\u001b[0m\n\u001b[1;37m              ^\u001b[0m\n\u001b[1;31mSyntaxError\u001b[0m\u001b[1;31m:\u001b[0m invalid syntax\n"
     ]
    }
   ],
   "source": []
  },
  {
   "cell_type": "code",
   "execution_count": null,
   "id": "2b747287-c2d8-4cfe-92bd-65ca072e166f",
   "metadata": {},
   "outputs": [],
   "source": []
  }
 ],
 "metadata": {
  "kernelspec": {
   "display_name": "Python 3 (ipykernel)",
   "language": "python",
   "name": "python3"
  },
  "language_info": {
   "codemirror_mode": {
    "name": "ipython",
    "version": 3
   },
   "file_extension": ".py",
   "mimetype": "text/x-python",
   "name": "python",
   "nbconvert_exporter": "python",
   "pygments_lexer": "ipython3",
   "version": "3.12.4"
  }
 },
 "nbformat": 4,
 "nbformat_minor": 5
}
